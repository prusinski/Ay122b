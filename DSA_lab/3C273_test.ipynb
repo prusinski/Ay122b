{
 "cells": [
  {
   "cell_type": "code",
   "execution_count": 20,
   "id": "suspended-municipality",
   "metadata": {},
   "outputs": [
    {
     "data": {
      "text/plain": [
       "['vis', 'frequencies_Hz', 'times_MJD', 'u_meters', 'v_meters', 'DEC_degrees']"
      ]
     },
     "execution_count": 20,
     "metadata": {},
     "output_type": "execute_result"
    }
   ],
   "source": [
    "import numpy as np\n",
    "from numpy import load\n",
    "import matplotlib.pyplot as plt\n",
    "\n",
    "data = load('data_3C273.npz')\n",
    "data.files\n"
   ]
  },
  {
   "cell_type": "code",
   "execution_count": 23,
   "id": "charged-hypothetical",
   "metadata": {},
   "outputs": [
    {
     "data": {
      "text/plain": [
       "<matplotlib.collections.PathCollection at 0x7f986f132d30>"
      ]
     },
     "execution_count": 23,
     "metadata": {},
     "output_type": "execute_result"
    },
    {
     "data": {
      "image/png": "[encoded data removed]",
      "text/plain": [
       "<Figure size 432x288 with 1 Axes>"
      ]
     },
     "metadata": {
      "needs_background": "light"
     },
     "output_type": "display_data"
    }
   ],
   "source": [
    "u = data['u_meters'][0]\n",
    "v = data['v_meters'][0]\n",
    "\n",
    "plt.scatter(u,v)"
   ]
  },
  {
   "cell_type": "code",
   "execution_count": null,
   "id": "approved-arnold",
   "metadata": {},
   "outputs": [],
   "source": []
  }
 ],
 "metadata": {
  "kernelspec": {
   "display_name": "Python 3",
   "language": "python",
   "name": "python3"
  },
  "language_info": {
   "codemirror_mode": {
    "name": "ipython",
    "version": 3
   },
   "file_extension": ".py",
   "mimetype": "text/x-python",
   "name": "python",
   "nbconvert_exporter": "python",
   "pygments_lexer": "ipython3",
   "version": "3.6.10"
  }
 },
 "nbformat": 4,
 "nbformat_minor": 5
}
